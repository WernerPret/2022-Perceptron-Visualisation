{
 "cells": [
  {
   "cell_type": "markdown",
   "id": "715d6f10",
   "metadata": {},
   "source": [
    "# Visualise Perceptron Decision Boundaries using Logic Gates"
   ]
  },
  {
   "cell_type": "markdown",
   "id": "6f259688",
   "metadata": {},
   "source": [
    "#### Imports"
   ]
  },
  {
   "cell_type": "code",
   "execution_count": 1,
   "id": "8b15bcac",
   "metadata": {},
   "outputs": [],
   "source": [
    "from sklearn.linear_model import Perceptron\n",
    "import matplotlib.pyplot as plt\n",
    "import numpy as np\n",
    "from itertools import product\n",
    "import seaborn as sns"
   ]
  },
  {
   "cell_type": "markdown",
   "id": "f36bebb1",
   "metadata": {},
   "source": [
    "#### Logic Gate Inputs = Features"
   ]
  },
  {
   "cell_type": "code",
   "execution_count": 2,
   "id": "4468fb14",
   "metadata": {},
   "outputs": [],
   "source": [
    "features = [[0,0], [0,1], [1,0], [1,1]]"
   ]
  },
  {
   "cell_type": "code",
   "execution_count": 3,
   "id": "89ca45bc",
   "metadata": {},
   "outputs": [],
   "source": [
    "labels_and_gate = [0, 0, 0, 1]\n",
    "labels_or_gate = [0, 1, 1, 1]\n",
    "labels_xor_gate = [0, 1, 1, 0]"
   ]
  },
  {
   "cell_type": "markdown",
   "id": "f8dcbe09",
   "metadata": {},
   "source": [
    "#### Plot those points => linearly seperable?"
   ]
  },
  {
   "cell_type": "code",
   "execution_count": 4,
   "id": "504011ff",
   "metadata": {},
   "outputs": [
    {
     "data": {
      "image/png": "[encoded data removed]",
      "text/plain": [
       "<Figure size 432x288 with 1 Axes>"
      ]
     },
     "metadata": {
      "needs_background": "light"
     },
     "output_type": "display_data"
    }
   ],
   "source": [
    "colors = [\"r\", \"g\", \"b\", \"y\"]\n",
    "\n",
    "for i in range(len(data)):\n",
    "    plt.scatter(data[i][0], data[i][1], c=colors[labels_or_gate[i]])\n",
    "plt.show()"
   ]
  },
  {
   "cell_type": "markdown",
   "id": "5ca87a52",
   "metadata": {},
   "source": [
    "#### Build and test Perceptron => only 4 training items => test using train data"
   ]
  },
  {
   "cell_type": "code",
   "execution_count": 20,
   "id": "399dbb86",
   "metadata": {
    "scrolled": true
   },
   "outputs": [
    {
     "name": "stdout",
     "output_type": "stream",
     "text": [
      "1.0\n"
     ]
    }
   ],
   "source": [
    "perceptron = Perceptron(max_iter=40).fit(data, labels_and_gate)\n",
    "\n",
    "# score the perceptron on the AND gate data\n",
    "print(perceptron.score(data, labels_and_gate))"
   ]
  },
  {
   "cell_type": "markdown",
   "id": "fcbbe0b0",
   "metadata": {},
   "source": [
    "#### Print heatmap of decision boundary"
   ]
  },
  {
   "cell_type": "code",
   "execution_count": 8,
   "id": "196b5602",
   "metadata": {},
   "outputs": [],
   "source": [
    "x_values = np.linspace(0, 1, 100)\n",
    "y_values = np.linspace(0, 1, 100)\n",
    "point_grid = list(product(x_values, y_values))"
   ]
  },
  {
   "cell_type": "code",
   "execution_count": 15,
   "id": "342fdd3c",
   "metadata": {},
   "outputs": [],
   "source": [
    "distances = perceptron.decision_function(point_grid)\n",
    "abs_distances = [abs(dist) for dist in distances]\n",
    "distances_matrix = np.reshape(abs_distances, (-1,100))"
   ]
  },
  {
   "cell_type": "code",
   "execution_count": 19,
   "id": "de1a443d",
   "metadata": {},
   "outputs": [
    {
     "data": {
      "image/png": "[encoded data removed]",
      "text/plain": [
       "<Figure size 432x288 with 2 Axes>"
      ]
     },
     "metadata": {
      "needs_background": "light"
     },
     "output_type": "display_data"
    }
   ],
   "source": [
    "heatmap = plt.pcolormesh(x_values, y_values, distances_matrix, shading='auto')\n",
    "plt.colorbar(heatmap)\n",
    "plt.show()"
   ]
  }
 ],
 "metadata": {
  "kernelspec": {
   "display_name": "Python 3",
   "language": "python",
   "name": "python3"
  },
  "language_info": {
   "codemirror_mode": {
    "name": "ipython",
    "version": 3
   },
   "file_extension": ".py",
   "mimetype": "text/x-python",
   "name": "python",
   "nbconvert_exporter": "python",
   "pygments_lexer": "ipython3",
   "version": "3.8.8"
  }
 },
 "nbformat": 4,
 "nbformat_minor": 5
}
